{
  "nbformat": 4,
  "nbformat_minor": 0,
  "metadata": {
    "colab": {
      "name": "Image_classification.ipynb",
      "provenance": [],
      "private_outputs": true,
      "collapsed_sections": [],
      "authorship_tag": "ABX9TyPgeJm6/s1U83AzF0Gt8bRw"
    },
    "kernelspec": {
      "name": "python3",
      "display_name": "Python 3"
    }
  },
  "cells": [
    {
      "cell_type": "markdown",
      "metadata": {
        "id": "F8cq6rkAyVgk",
        "colab_type": "text"
      },
      "source": [
        "Используем датасет https://www.kaggle.com/jerzydziewierz/bee-vs-wasp"
      ]
    },
    {
      "cell_type": "code",
      "metadata": {
        "id": "ktaqQlaTvdQv",
        "colab_type": "code",
        "colab": {}
      },
      "source": [
        "from pathlib import Path\n",
        "\n",
        "import gdown\n",
        "import pandas as pd\n",
        "import numpy as np\n",
        "import matplotlib.pyplot as plt\n",
        "import torch\n",
        "from matplotlib import image\n",
        "from PIL import Image\n",
        "from sklearn.model_selection import train_test_split\n"
      ],
      "execution_count": null,
      "outputs": []
    },
    {
      "cell_type": "markdown",
      "metadata": {
        "id": "XxTfb5eT-LKF",
        "colab_type": "text"
      },
      "source": [
        "Скачаем и разархивируем датасет"
      ]
    },
    {
      "cell_type": "code",
      "metadata": {
        "id": "LDpHTgma0dl-",
        "colab_type": "code",
        "colab": {}
      },
      "source": [
        "gdown.download('https://drive.google.com/uc?id=1PdzEBKmH9PcH4erv77G5qjSwkFTYnDh4',\n",
        "               'Image.zip', quiet=False)"
      ],
      "execution_count": null,
      "outputs": []
    },
    {
      "cell_type": "code",
      "metadata": {
        "id": "wKlvV9QjAw-k",
        "colab_type": "code",
        "colab": {}
      },
      "source": [
        "!unzip -q Image.zip"
      ],
      "execution_count": null,
      "outputs": []
    },
    {
      "cell_type": "code",
      "metadata": {
        "id": "ajiP07k3-Vlg",
        "colab_type": "code",
        "colab": {}
      },
      "source": [
        "device = (torch.device('cuda') if torch.cuda.is_available() else \n",
        "          torch.device('cpu'))"
      ],
      "execution_count": null,
      "outputs": []
    },
    {
      "cell_type": "markdown",
      "metadata": {
        "id": "ifzEP80gjwHb",
        "colab_type": "text"
      },
      "source": [
        "Датасет содержит в себе папки:\n",
        "bee1 - с фотографиями пчел.\n",
        "\n",
        "bee2 - с плохими фотографиями пчел.\n",
        "\n",
        "wasp1- с фотографиями ос.\n",
        "\n",
        "wasp2 - с плохими фотографиями ос.\n",
        "\n",
        "other_insect и other_noninsect - с насекомыми и животными."
      ]
    },
    {
      "cell_type": "code",
      "metadata": {
        "id": "MXAqJURlFELA",
        "colab_type": "code",
        "colab": {}
      },
      "source": [
        "labels = ['bee', 'wasp', 'other_insect', 'other_noninsect']"
      ],
      "execution_count": null,
      "outputs": []
    },
    {
      "cell_type": "code",
      "metadata": {
        "id": "5Kp05oSS_2pe",
        "colab_type": "code",
        "colab": {}
      },
      "source": [
        "all_img_paths = []\n",
        "classes = []\n",
        "\n",
        "bee_path = Path('/content/kaggle_bee_vs_wasp/bee1')\n",
        "bee_images = [x for x in bee_path.iterdir()]\n",
        "all_img_paths += bee_images\n",
        "classes += [labels.index('bee')]*len(bee_images)\n",
        "\n",
        "wasp_path = Path('/content/kaggle_bee_vs_wasp/wasp1')\n",
        "wasp_images = [x for x in wasp_path.iterdir()]\n",
        "all_img_paths += wasp_images\n",
        "classes += [labels.index('wasp')]*len(wasp_images)\n",
        "\n",
        "other_insects_path = Path('/content/kaggle_bee_vs_wasp/other_insect')\n",
        "other_images = [x for x in other_insects_path.iterdir()]\n",
        "all_img_paths += other_images\n",
        "classes += [labels.index('other_insect')]*len(other_images)\n",
        "\n",
        "other_noninsects_path = Path('/content/kaggle_bee_vs_wasp/other_noinsect')\n",
        "noninsect_images = [x for x in other_noninsects_path.iterdir()]\n",
        "all_img_paths += noninsect_images\n",
        "classes += [labels.index('other_noninsect')]*len(noninsect_images)\n",
        "\n",
        "print(f'Фотографий пчел: {len(bee_images)}')\n",
        "print(f'Фотографий ос: {len(wasp_images)}')\n",
        "print(f'Фотографий других насекомых: {len(other_images)}')\n",
        "print(f'Фотографий не насекомых: {len(noninsect_images)}')\n",
        "print(f'Всего картинок: {len(all_img_paths)}')"
      ],
      "execution_count": null,
      "outputs": []
    },
    {
      "cell_type": "code",
      "metadata": {
        "id": "FZBJJsK4PJ9q",
        "colab_type": "code",
        "colab": {}
      },
      "source": [
        "def random_int():\n",
        "    '''\n",
        "    just random int [0, 7891]\n",
        "    '''\n",
        "    return np.random.randint(0, len(all_img_paths)+1)\n",
        "\n",
        "def draw_many_pics(pathlist=all_img_paths, classlist=classes):\n",
        "    fig, ax = plt.subplots(2, 2, figsize=(10,7))\n",
        "    num = random_int()\n",
        "    ax[0, 0].imshow(image.imread(all_img_paths[num]))\n",
        "    ax[0, 0].set_title(f'{labels[classes[num]]}')\n",
        "    \n",
        "    num = random_int()\n",
        "    ax[0, 1].imshow(image.imread(all_img_paths[num]))\n",
        "    ax[0, 1].set_title(f'{labels[classes[num]]}')\n",
        "    \n",
        "    num = random_int()\n",
        "    ax[1, 1].imshow(image.imread(all_img_paths[num]))\n",
        "    ax[1, 1].set_title(f'{labels[classes[num]]}')\n",
        "    \n",
        "    num = random_int()\n",
        "    ax[1, 0].imshow(image.imread(all_img_paths[num]))\n",
        "    ax[1, 0].set_title(f'{labels[classes[num]]}')\n",
        "    return"
      ],
      "execution_count": null,
      "outputs": []
    },
    {
      "cell_type": "code",
      "metadata": {
        "id": "7E6i3uDGatQf",
        "colab_type": "code",
        "colab": {}
      },
      "source": [
        "draw_many_pics()"
      ],
      "execution_count": null,
      "outputs": []
    },
    {
      "cell_type": "code",
      "metadata": {
        "id": "IvNYNtx7gWNC",
        "colab_type": "code",
        "colab": {}
      },
      "source": [
        "img_train, img_test, class_train, class_test = train_test_split(all_img_paths, classes, test_size=0.1)"
      ],
      "execution_count": null,
      "outputs": []
    },
    {
      "cell_type": "code",
      "metadata": {
        "id": "EIqbI7efkD6H",
        "colab_type": "code",
        "colab": {}
      },
      "source": [
        "class BeeSet(Dataset):\n",
        "    "
      ],
      "execution_count": null,
      "outputs": []
    },
    {
      "cell_type": "code",
      "metadata": {
        "id": "gAQJtfy-jOUt",
        "colab_type": "code",
        "colab": {}
      },
      "source": [
        ""
      ],
      "execution_count": null,
      "outputs": []
    }
  ]
}